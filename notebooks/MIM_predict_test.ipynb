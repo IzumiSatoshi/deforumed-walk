{
 "cells": [
  {
   "cell_type": "code",
   "execution_count": null,
   "metadata": {},
   "outputs": [],
   "source": [
    "import numpy as np\n",
    "import PIL\n",
    "from collections import OrderedDict\n",
    "from types import SimpleNamespace\n",
    "\n",
    "import torch\n",
    "from torch.utils.data import DataLoader\n",
    "import torch.backends.cudnn as cudnn\n",
    "import torchvision.transforms as transforms\n",
    "\n",
    "import utils.logging as logging\n",
    "import utils.metrics as metrics\n",
    "from models.model import GLPDepth\n",
    "from dataset.base_dataset import get_dataset\n",
    "from configs.test_options import TestOptions\n",
    "import matplotlib.pyplot as plt\n",
    "\n",
    "ckpt_path = \"../models/kitti_swin_large.ckpt\"\n"
   ]
  },
  {
   "cell_type": "code",
   "execution_count": null,
   "metadata": {},
   "outputs": [],
   "source": [
    "\"\"\" \n",
    "glp_args = SimpleNamespace(\n",
    "    max_depth=80,\n",
    "    backbone=\"swin_large\",\n",
    "    depths=[2, 2, 18, 2],\n",
    "    window_size=[22, 22, 22, 11],\n",
    "    pretrain_window_size=[12, 12, 12, 6],\n",
    "    drop_path_rate=0.3,\n",
    "    use_checkpoint=False,\n",
    "    use_shift=[True, True, False, False],\n",
    "    pretrained=\"\",\n",
    "    num_deconv=3,\n",
    "    num_filters=[32, 32, 32],\n",
    "    deconv_kernels=[2, 2, 2],\n",
    ")\n",
    "\"\"\"\n",
    "glp_args = SimpleNamespace(\n",
    "    max_depth=80,\n",
    "    backbone=\"swin_large\",\n",
    "    depths=[2, 2, 18, 2],\n",
    "    window_size=[22, 22, 22, 11],\n",
    "    pretrain_window_size=[12, 12, 12, 6],\n",
    "    drop_path_rate=0.3,\n",
    "    use_checkpoint=False,\n",
    "    use_shift=[True, True, False, False],\n",
    "    pretrained=\"\",\n",
    "    num_deconv=3,\n",
    "    num_filters=[32, 32, 32],\n",
    "    deconv_kernels=[2, 2, 2],\n",
    ")\n",
    "\n",
    "model = GLPDepth(glp_args).to(\"cpu\")\n",
    "model_weight = torch.load(ckpt_path)\n",
    "if 'module' in next(iter(model_weight.items()))[0]:\n",
    "    model_weight = OrderedDict((k[7:], v) for k, v in model_weight.items())\n",
    "model.load_state_dict(model_weight)\n",
    "model.eval()"
   ]
  },
  {
   "cell_type": "code",
   "execution_count": null,
   "metadata": {},
   "outputs": [],
   "source": [
    "print(model.decoder.to(\"cuda\"))"
   ]
  },
  {
   "cell_type": "code",
   "execution_count": null,
   "metadata": {},
   "outputs": [],
   "source": [
    "input_RGB = np.array(PIL.Image.open(\"../data/tower0.png\"))\n",
    "model_input = transforms.ToTensor()(input_RGB).unsqueeze(0).float()\n",
    "pred = model(model_input)"
   ]
  },
  {
   "cell_type": "code",
   "execution_count": null,
   "metadata": {},
   "outputs": [],
   "source": [
    "print(pred[\"pred_d\"].shape)\n",
    "depth = pred[\"pred_d\"].permute(0, 2, 3, 1).squeeze(0)\n",
    "depth = depth.detach().numpy()\n",
    "print(depth.shape)\n",
    "plt.imshow(depth, cmap=\"gray\")"
   ]
  },
  {
   "cell_type": "code",
   "execution_count": null,
   "metadata": {},
   "outputs": [],
   "source": [
    "depth.max()"
   ]
  }
 ],
 "metadata": {
  "kernelspec": {
   "display_name": ".venv",
   "language": "python",
   "name": "python3"
  },
  "language_info": {
   "codemirror_mode": {
    "name": "ipython",
    "version": 3
   },
   "file_extension": ".py",
   "mimetype": "text/x-python",
   "name": "python",
   "nbconvert_exporter": "python",
   "pygments_lexer": "ipython3",
   "version": "3.10.7 (tags/v3.10.7:6cc6b13, Sep  5 2022, 14:08:36) [MSC v.1933 64 bit (AMD64)]"
  },
  "orig_nbformat": 4,
  "vscode": {
   "interpreter": {
    "hash": "d8bc301b1eb05aff8400302b6dfaea7934301ddc1b7f532cb6b287c876dd3e7b"
   }
  }
 },
 "nbformat": 4,
 "nbformat_minor": 2
}
